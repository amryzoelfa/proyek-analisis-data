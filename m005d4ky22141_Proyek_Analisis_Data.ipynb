{
  "cells": [
    {
      "cell_type": "markdown",
      "metadata": {
        "id": "view-in-github",
        "colab_type": "text"
      },
      "source": [
        "<a href=\"https://colab.research.google.com/github/amryzoelfa/proyek-analisis-data/blob/main/m005d4ky22141_Proyek_Analisis_Data.ipynb\" target=\"_parent\"><img src=\"https://colab.research.google.com/assets/colab-badge.svg\" alt=\"Open In Colab\"/></a>"
      ]
    },
    {
      "cell_type": "markdown",
      "metadata": {
        "id": "H9wADwK78DCz"
      },
      "source": [
        "# Proyek Analisis Data: Bike Sharing Dataset\n",
        "- **Nama:** Amry Zulfa Al Husna\n",
        "- **Email:** amryzoelfa@gmail.com\n",
        "- **ID Dicoding:** amryzoelfa"
      ]
    },
    {
      "cell_type": "markdown",
      "metadata": {
        "id": "eE0raob58DC0"
      },
      "source": [
        "## Menentukan Pertanyaan Bisnis"
      ]
    },
    {
      "cell_type": "markdown",
      "metadata": {
        "id": "GmQeQ5YF8DC0"
      },
      "source": [
        "- Bagaimana tren peminjaman sepeda berubah sepanjang tahun 2011 dan 2012?\n",
        "- Apakah kondisi cuaca mempengaruhi jumlah peminjaman sepeda?"
      ]
    },
    {
      "cell_type": "markdown",
      "metadata": {
        "id": "H-z4QGlO8DC1"
      },
      "source": [
        "## Import Semua Packages/Library yang Digunakan"
      ]
    },
    {
      "cell_type": "code",
      "execution_count": 4,
      "metadata": {
        "id": "FVYwaObI8DC1"
      },
      "outputs": [],
      "source": [
        "import pandas as pd\n",
        "import numpy as np\n",
        "import matplotlib.pyplot as plt\n",
        "import seaborn as sns"
      ]
    },
    {
      "cell_type": "markdown",
      "metadata": {
        "id": "h_Sh51Xy8DC1"
      },
      "source": [
        "## Data Wrangling"
      ]
    },
    {
      "cell_type": "markdown",
      "metadata": {
        "id": "sXU2GBYu8DC1"
      },
      "source": [
        "### Gathering Data"
      ]
    },
    {
      "cell_type": "code",
      "execution_count": 5,
      "metadata": {
        "id": "zjCBk1BI8DC1",
        "colab": {
          "base_uri": "https://localhost:8080/"
        },
        "outputId": "acaccafc-36d8-46c4-d263-52ae8a7dba3f"
      },
      "outputs": [
        {
          "output_type": "stream",
          "name": "stdout",
          "text": [
            "Drive already mounted at /content/drive; to attempt to forcibly remount, call drive.mount(\"/content/drive\", force_remount=True).\n"
          ]
        }
      ],
      "source": [
        "from google.colab import drive\n",
        "drive.mount('/content/drive')\n",
        "\n",
        "df_hour = pd.read_csv('/content/drive/My Drive/proyek-analisis-data/data/hour.csv')\n",
        "df_day = pd.read_csv('/content/drive/My Drive/proyek-analisis-data/data/day.csv')"
      ]
    },
    {
      "cell_type": "code",
      "source": [
        "from google.colab import drive\n",
        "drive.mount('/content/drive')"
      ],
      "metadata": {
        "id": "lur6F225CArI"
      },
      "execution_count": null,
      "outputs": []
    },
    {
      "cell_type": "markdown",
      "metadata": {
        "id": "FHSiqaZp8DC1"
      },
      "source": [
        "### Assessing Data"
      ]
    },
    {
      "cell_type": "code",
      "source": [
        "print(df_hour.info())\n",
        "print(df_day.info())"
      ],
      "metadata": {
        "id": "ax-3tEjc9Cj1",
        "colab": {
          "base_uri": "https://localhost:8080/"
        },
        "outputId": "7ffd57f0-0e5f-4ee9-ceae-cc794bddda8c"
      },
      "execution_count": 6,
      "outputs": [
        {
          "output_type": "stream",
          "name": "stdout",
          "text": [
            "<class 'pandas.core.frame.DataFrame'>\n",
            "RangeIndex: 17379 entries, 0 to 17378\n",
            "Data columns (total 17 columns):\n",
            " #   Column      Non-Null Count  Dtype  \n",
            "---  ------      --------------  -----  \n",
            " 0   instant     17379 non-null  int64  \n",
            " 1   dteday      17379 non-null  object \n",
            " 2   season      17379 non-null  int64  \n",
            " 3   yr          17379 non-null  int64  \n",
            " 4   mnth        17379 non-null  int64  \n",
            " 5   hr          17379 non-null  int64  \n",
            " 6   holiday     17379 non-null  int64  \n",
            " 7   weekday     17379 non-null  int64  \n",
            " 8   workingday  17379 non-null  int64  \n",
            " 9   weathersit  17379 non-null  int64  \n",
            " 10  temp        17379 non-null  float64\n",
            " 11  atemp       17379 non-null  float64\n",
            " 12  hum         17379 non-null  float64\n",
            " 13  windspeed   17379 non-null  float64\n",
            " 14  casual      17379 non-null  int64  \n",
            " 15  registered  17379 non-null  int64  \n",
            " 16  cnt         17379 non-null  int64  \n",
            "dtypes: float64(4), int64(12), object(1)\n",
            "memory usage: 2.3+ MB\n",
            "None\n",
            "<class 'pandas.core.frame.DataFrame'>\n",
            "RangeIndex: 731 entries, 0 to 730\n",
            "Data columns (total 16 columns):\n",
            " #   Column      Non-Null Count  Dtype  \n",
            "---  ------      --------------  -----  \n",
            " 0   instant     731 non-null    int64  \n",
            " 1   dteday      731 non-null    object \n",
            " 2   season      731 non-null    int64  \n",
            " 3   yr          731 non-null    int64  \n",
            " 4   mnth        731 non-null    int64  \n",
            " 5   holiday     731 non-null    int64  \n",
            " 6   weekday     731 non-null    int64  \n",
            " 7   workingday  731 non-null    int64  \n",
            " 8   weathersit  731 non-null    int64  \n",
            " 9   temp        731 non-null    float64\n",
            " 10  atemp       731 non-null    float64\n",
            " 11  hum         731 non-null    float64\n",
            " 12  windspeed   731 non-null    float64\n",
            " 13  casual      731 non-null    int64  \n",
            " 14  registered  731 non-null    int64  \n",
            " 15  cnt         731 non-null    int64  \n",
            "dtypes: float64(4), int64(11), object(1)\n",
            "memory usage: 91.5+ KB\n",
            "None\n"
          ]
        }
      ]
    },
    {
      "cell_type": "markdown",
      "metadata": {
        "id": "EhN5R4hr8DC1"
      },
      "source": [
        "### Cleaning Data"
      ]
    },
    {
      "cell_type": "code",
      "source": [
        "df_hour.drop(['instant', 'casual', 'registered'], axis=1, inplace=True)\n",
        "df_day.drop(['instant', 'casual', 'registered'], axis=1, inplace=True)"
      ],
      "metadata": {
        "id": "jVnYpprE9Evz"
      },
      "execution_count": 7,
      "outputs": []
    },
    {
      "cell_type": "markdown",
      "metadata": {
        "id": "gp-Y6wU38DC1"
      },
      "source": [
        "## Exploratory Data Analysis (EDA)"
      ]
    },
    {
      "cell_type": "markdown",
      "metadata": {
        "id": "MW7WF2kr8DC1"
      },
      "source": [
        "### Explore ..."
      ]
    },
    {
      "cell_type": "code",
      "execution_count": 8,
      "metadata": {
        "id": "e9CQCZjk8DC2",
        "colab": {
          "base_uri": "https://localhost:8080/"
        },
        "outputId": "bab38582-dac3-4fea-ce94-f33f9b55332d"
      },
      "outputs": [
        {
          "output_type": "stream",
          "name": "stdout",
          "text": [
            "             season            yr          mnth            hr       holiday  \\\n",
            "count  17379.000000  17379.000000  17379.000000  17379.000000  17379.000000   \n",
            "mean       2.501640      0.502561      6.537775     11.546752      0.028770   \n",
            "std        1.106918      0.500008      3.438776      6.914405      0.167165   \n",
            "min        1.000000      0.000000      1.000000      0.000000      0.000000   \n",
            "25%        2.000000      0.000000      4.000000      6.000000      0.000000   \n",
            "50%        3.000000      1.000000      7.000000     12.000000      0.000000   \n",
            "75%        3.000000      1.000000     10.000000     18.000000      0.000000   \n",
            "max        4.000000      1.000000     12.000000     23.000000      1.000000   \n",
            "\n",
            "            weekday    workingday    weathersit          temp         atemp  \\\n",
            "count  17379.000000  17379.000000  17379.000000  17379.000000  17379.000000   \n",
            "mean       3.003683      0.682721      1.425283      0.496987      0.475775   \n",
            "std        2.005771      0.465431      0.639357      0.192556      0.171850   \n",
            "min        0.000000      0.000000      1.000000      0.020000      0.000000   \n",
            "25%        1.000000      0.000000      1.000000      0.340000      0.333300   \n",
            "50%        3.000000      1.000000      1.000000      0.500000      0.484800   \n",
            "75%        5.000000      1.000000      2.000000      0.660000      0.621200   \n",
            "max        6.000000      1.000000      4.000000      1.000000      1.000000   \n",
            "\n",
            "                hum     windspeed           cnt  \n",
            "count  17379.000000  17379.000000  17379.000000  \n",
            "mean       0.627229      0.190098    189.463088  \n",
            "std        0.192930      0.122340    181.387599  \n",
            "min        0.000000      0.000000      1.000000  \n",
            "25%        0.480000      0.104500     40.000000  \n",
            "50%        0.630000      0.194000    142.000000  \n",
            "75%        0.780000      0.253700    281.000000  \n",
            "max        1.000000      0.850700    977.000000  \n",
            "           season          yr        mnth     holiday     weekday  workingday  \\\n",
            "count  731.000000  731.000000  731.000000  731.000000  731.000000  731.000000   \n",
            "mean     2.496580    0.500684    6.519836    0.028728    2.997264    0.683995   \n",
            "std      1.110807    0.500342    3.451913    0.167155    2.004787    0.465233   \n",
            "min      1.000000    0.000000    1.000000    0.000000    0.000000    0.000000   \n",
            "25%      2.000000    0.000000    4.000000    0.000000    1.000000    0.000000   \n",
            "50%      3.000000    1.000000    7.000000    0.000000    3.000000    1.000000   \n",
            "75%      3.000000    1.000000   10.000000    0.000000    5.000000    1.000000   \n",
            "max      4.000000    1.000000   12.000000    1.000000    6.000000    1.000000   \n",
            "\n",
            "       weathersit        temp       atemp         hum   windspeed          cnt  \n",
            "count  731.000000  731.000000  731.000000  731.000000  731.000000   731.000000  \n",
            "mean     1.395349    0.495385    0.474354    0.627894    0.190486  4504.348837  \n",
            "std      0.544894    0.183051    0.162961    0.142429    0.077498  1937.211452  \n",
            "min      1.000000    0.059130    0.079070    0.000000    0.022392    22.000000  \n",
            "25%      1.000000    0.337083    0.337842    0.520000    0.134950  3152.000000  \n",
            "50%      1.000000    0.498333    0.486733    0.626667    0.180975  4548.000000  \n",
            "75%      2.000000    0.655417    0.608602    0.730209    0.233214  5956.000000  \n",
            "max      3.000000    0.861667    0.840896    0.972500    0.507463  8714.000000  \n"
          ]
        }
      ],
      "source": [
        "print(df_hour.describe())\n",
        "print(df_day.describe())"
      ]
    },
    {
      "cell_type": "markdown",
      "metadata": {
        "id": "zsyZjqak8DC2"
      },
      "source": [
        "## Visualization & Explanatory Analysis"
      ]
    },
    {
      "cell_type": "markdown",
      "metadata": {
        "id": "HZxOiQ6n8DC2"
      },
      "source": [
        "### Pertanyaan 1:"
      ]
    },
    {
      "cell_type": "code",
      "execution_count": 17,
      "metadata": {
        "id": "1swJUdAD8DC2",
        "colab": {
          "base_uri": "https://localhost:8080/",
          "height": 685
        },
        "outputId": "9a1803ce-e003-471a-9684-f513dab138f0"
      },
      "outputs": [
        {
          "output_type": "display_data",
          "data": {
            "text/plain": [
              "<Figure size 1500x700 with 1 Axes>"
            ],
            "image/png": "[encoded data removed]"
          },
          "metadata": {}
        }
      ],
      "source": [
        "# plt.figure(figsize=(14,7))\n",
        "# sns.lineplot(data=df_day, x='dteday', y='cnt')\n",
        "# plt.title('Tren Peminjaman Sepeda Harian')\n",
        "# plt.xlabel('Tanggal')\n",
        "# plt.ylabel('Jumlah Peminjaman')\n",
        "# plt.show()\n",
        "\n",
        "# Pastikan bahwa kolom 'dteday' sudah dalam format datetime\n",
        "df_day['dteday'] = pd.to_datetime(df_day['dteday'])\n",
        "\n",
        "df_day['month'] = df_day['dteday'].dt.to_period('M')\n",
        "\n",
        "# Mengelompokkan berdasarkan kolom 'month' dan menjumlahkan kolom 'cnt'\n",
        "monthly_totals = df_day.groupby('month')['cnt'].sum().reset_index()\n",
        "# monthly_totals\n",
        "\n",
        "# Visualisasi data peminjaman sepeda per bulan\n",
        "plt.figure(figsize=(15, 7))\n",
        "sns.barplot(data=monthly_totals, x='month', y='cnt')\n",
        "plt.title('Total Peminjaman Sepeda Per Bulan')\n",
        "plt.xlabel('Bulan')\n",
        "plt.ylabel('Jumlah Peminjaman')\n",
        "plt.xticks(rotation=90)\n",
        "plt.show()"
      ]
    },
    {
      "cell_type": "markdown",
      "metadata": {
        "id": "DgHI7CiU8DC2"
      },
      "source": [
        "### Pertanyaan 2:"
      ]
    },
    {
      "cell_type": "code",
      "execution_count": null,
      "metadata": {
        "id": "Go0lCsvO8DC2",
        "colab": {
          "base_uri": "https://localhost:8080/",
          "height": 459
        },
        "outputId": "791e5a41-81a6-4b8a-d155-a3f9524eeaa6"
      },
      "outputs": [
        {
          "output_type": "display_data",
          "data": {
            "text/plain": [
              "<Figure size 1400x700 with 1 Axes>"
            ],
            "image/png": "[encoded data removed]"
          },
          "metadata": {}
        }
      ],
      "source": [
        "plt.figure(figsize=(14,7))\n",
        "sns.barplot(data=df_day, x='weathersit', y='cnt')\n",
        "plt.title('Pengaruh Kondisi Cuaca terhadap Peminjaman Sepeda')\n",
        "plt.xlabel('Kondisi Cuaca')\n",
        "plt.ylabel('Jumlah Peminjaman')\n",
        "plt.xticks(ticks=[0, 1, 2, 3], labels=['Cerah', 'Mendung', 'Hujan Ringan', 'Hujan Lebat'])\n",
        "plt.show()"
      ]
    },
    {
      "cell_type": "markdown",
      "metadata": {
        "id": "_WeHlCeX8DC2"
      },
      "source": [
        "## Conclusion"
      ]
    },
    {
      "cell_type": "markdown",
      "metadata": {
        "id": "ZTcyR48Y8DC2"
      },
      "source": [
        "- Conclution pertanyaan 1 : Berdasarkan visualisasi total peminjaman sepeda per bulan, kita dapat melihat bahwa tren peminjaman sepeda mengalami fluktuasi sepanjang tahun 2011 dan 2012. Biasanya, peminjaman meningkat selama bulan-bulan hangat (dari Mei hingga Oktober) dan menurun selama bulan-bulan dingin (November hingga Februari). Hal ini menunjukkan bahwa cuaca dan musim memainkan peran penting dalam pola peminjaman sepeda. Meningkatnya jumlah peminjaman selama bulan-bulan hangat mungkin dikaitkan dengan kondisi cuaca yang lebih nyaman untuk bersepeda.\n",
        "- Conclution pertanyaan 2 : Kondisi cuaca cerah cenderung memiliki jumlah peminjaman sepeda yang lebih tinggi dibandingkan dengan kondisi cuaca lainnya."
      ]
    }
  ],
  "metadata": {
    "kernelspec": {
      "display_name": "Python 3",
      "language": "python",
      "name": "python3"
    },
    "language_info": {
      "name": "python",
      "version": "3.8.0 (tags/v3.8.0:fa919fd, Oct 14 2019, 19:21:23) [MSC v.1916 32 bit (Intel)]"
    },
    "orig_nbformat": 4,
    "vscode": {
      "interpreter": {
        "hash": "972b3bf27e332e87b5379f2791f6ef9dfc79c71018c370b0d7423235e20fe4d7"
      }
    },
    "colab": {
      "provenance": [],
      "include_colab_link": true
    }
  },
  "nbformat": 4,
  "nbformat_minor": 0
}